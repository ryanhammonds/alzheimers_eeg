{
 "cells": [
  {
   "cell_type": "code",
   "execution_count": 1,
   "id": "b85034d3",
   "metadata": {},
   "outputs": [],
   "source": [
    "import numpy as np\n",
    "import pandas as pd\n",
    "from sklearn.impute import SimpleImputer\n",
    "from riskslim import RiskSLIMClassifier"
   ]
  },
  {
   "cell_type": "markdown",
   "id": "46911363",
   "metadata": {},
   "source": [
    "### Alzheimer's EEG: Modeling\n",
    "\n",
    "The features from the previous notebook are now passed into a sparse risk model. The variables found to be important in classification were timescales (label as spectral \"knee_freq\" below) and 1/f slope. The model produced an AUC=0.8."
   ]
  },
  {
   "cell_type": "code",
   "execution_count": 2,
   "id": "e6ba6fb4",
   "metadata": {},
   "outputs": [],
   "source": [
    "# Load features\n",
    "df = pd.read_csv(\"alzheimers_features.csv\")\n",
    "df = df.loc[(df[\"label\"] == \"C\") | (df[\"label\"] == \"A\")]\n",
    "\n",
    "# X and y\n",
    "X = df.iloc[:, 1:].to_numpy()\n",
    "\n",
    "y = np.zeros(len(X), dtype=int)\n",
    "y[df[\"label\"] == 'A'] = 1 # alzheimer's\n",
    "y[df[\"label\"] == 'C'] = 0 # controls\n",
    "\n",
    "variable_names = list(df.columns[1:])\n",
    "\n",
    "# Scaler\n",
    "from sklearn.preprocessing import StandardScaler\n",
    "scaler = StandardScaler()\n",
    "X = scaler.fit_transform(X)\n",
    "\n",
    "# Impute missing values\n",
    "imp = SimpleImputer(missing_values=np.nan, strategy='mean')\n",
    "X = imp.fit_transform(X)\n",
    "\n",
    "\n",
    "# Drop offset, constant, and exponent parameters\n",
    "#   for faster computation\n",
    "keep = []\n",
    "\n",
    "for i, v in enumerate(variable_names):\n",
    "    if (\"offset\" not in v) and (\"const\" not in v) and (\"exp\" not in v):\n",
    "        keep.append(i)\n",
    "        \n",
    "X = X[:, keep]\n",
    "variable_names = np.array(variable_names)[keep].tolist()"
   ]
  },
  {
   "cell_type": "markdown",
   "id": "9720da43",
   "metadata": {},
   "source": [
    "### RiskSLIM\n",
    "\n",
    "RiskSLIM is a sparse linear integer model with risk scores. This model provides improved interpretablity compared to standard logistic regression."
   ]
  },
  {
   "cell_type": "code",
   "execution_count": 3,
   "id": "54f7fe54",
   "metadata": {},
   "outputs": [
    {
     "data": {
      "text/html": [
       "<style>#sk-container-id-1 {color: black;background-color: white;}#sk-container-id-1 pre{padding: 0;}#sk-container-id-1 div.sk-toggleable {background-color: white;}#sk-container-id-1 label.sk-toggleable__label {cursor: pointer;display: block;width: 100%;margin-bottom: 0;padding: 0.3em;box-sizing: border-box;text-align: center;}#sk-container-id-1 label.sk-toggleable__label-arrow:before {content: \"▸\";float: left;margin-right: 0.25em;color: #696969;}#sk-container-id-1 label.sk-toggleable__label-arrow:hover:before {color: black;}#sk-container-id-1 div.sk-estimator:hover label.sk-toggleable__label-arrow:before {color: black;}#sk-container-id-1 div.sk-toggleable__content {max-height: 0;max-width: 0;overflow: hidden;text-align: left;background-color: #f0f8ff;}#sk-container-id-1 div.sk-toggleable__content pre {margin: 0.2em;color: black;border-radius: 0.25em;background-color: #f0f8ff;}#sk-container-id-1 input.sk-toggleable__control:checked~div.sk-toggleable__content {max-height: 200px;max-width: 100%;overflow: auto;}#sk-container-id-1 input.sk-toggleable__control:checked~label.sk-toggleable__label-arrow:before {content: \"▾\";}#sk-container-id-1 div.sk-estimator input.sk-toggleable__control:checked~label.sk-toggleable__label {background-color: #d4ebff;}#sk-container-id-1 div.sk-label input.sk-toggleable__control:checked~label.sk-toggleable__label {background-color: #d4ebff;}#sk-container-id-1 input.sk-hidden--visually {border: 0;clip: rect(1px 1px 1px 1px);clip: rect(1px, 1px, 1px, 1px);height: 1px;margin: -1px;overflow: hidden;padding: 0;position: absolute;width: 1px;}#sk-container-id-1 div.sk-estimator {font-family: monospace;background-color: #f0f8ff;border: 1px dotted black;border-radius: 0.25em;box-sizing: border-box;margin-bottom: 0.5em;}#sk-container-id-1 div.sk-estimator:hover {background-color: #d4ebff;}#sk-container-id-1 div.sk-parallel-item::after {content: \"\";width: 100%;border-bottom: 1px solid gray;flex-grow: 1;}#sk-container-id-1 div.sk-label:hover label.sk-toggleable__label {background-color: #d4ebff;}#sk-container-id-1 div.sk-serial::before {content: \"\";position: absolute;border-left: 1px solid gray;box-sizing: border-box;top: 0;bottom: 0;left: 50%;z-index: 0;}#sk-container-id-1 div.sk-serial {display: flex;flex-direction: column;align-items: center;background-color: white;padding-right: 0.2em;padding-left: 0.2em;position: relative;}#sk-container-id-1 div.sk-item {position: relative;z-index: 1;}#sk-container-id-1 div.sk-parallel {display: flex;align-items: stretch;justify-content: center;background-color: white;position: relative;}#sk-container-id-1 div.sk-item::before, #sk-container-id-1 div.sk-parallel-item::before {content: \"\";position: absolute;border-left: 1px solid gray;box-sizing: border-box;top: 0;bottom: 0;left: 50%;z-index: -1;}#sk-container-id-1 div.sk-parallel-item {display: flex;flex-direction: column;z-index: 1;position: relative;background-color: white;}#sk-container-id-1 div.sk-parallel-item:first-child::after {align-self: flex-end;width: 50%;}#sk-container-id-1 div.sk-parallel-item:last-child::after {align-self: flex-start;width: 50%;}#sk-container-id-1 div.sk-parallel-item:only-child::after {width: 0;}#sk-container-id-1 div.sk-dashed-wrapped {border: 1px dashed gray;margin: 0 0.4em 0.5em 0.4em;box-sizing: border-box;padding-bottom: 0.4em;background-color: white;}#sk-container-id-1 div.sk-label label {font-family: monospace;font-weight: bold;display: inline-block;line-height: 1.2em;}#sk-container-id-1 div.sk-label-container {text-align: center;}#sk-container-id-1 div.sk-container {/* jupyter's `normalize.less` sets `[hidden] { display: none; }` but bootstrap.min.css set `[hidden] { display: none !important; }` so we also need the `!important` here to be able to override the default hidden behavior on the sphinx rendered scikit-learn.org. See: https://github.com/scikit-learn/scikit-learn/issues/21755 */display: inline-block !important;position: relative;}#sk-container-id-1 div.sk-text-repr-fallback {display: none;}</style><div id=\"sk-container-id-1\" class=\"sk-top-container\"><div class=\"sk-text-repr-fallback\"><pre>+------------------------------------------------------+-------------------+-----------+\n",
       "| Pr(ALZHEIMERS = +1) = 1.0/(1.0 + exp(-(1 + score))   |                   |           |\n",
       "| ==================================================== | ================= | ========= |\n",
       "| linear_slope_O1                                      |          5 points |   + ..... |\n",
       "| alpha_knee_freq_C3                                   |          4 points |   + ..... |\n",
       "| gamma_knee_freq_F4                                   |         -1 points |   + ..... |\n",
       "| alpha_knee_freq_Cz                                   |         -2 points |   + ..... |\n",
       "| linear_slope_Pz                                      |         -5 points |   + ..... |\n",
       "| ==================================================== | ================= | ========= |\n",
       "| ADD POINTS FROM ROWS 1 to 5                          |             SCORE |   = ..... |\n",
       "+------------------------------------------------------+-------------------+-----------+</pre><b>In a Jupyter environment, please rerun this cell to show the HTML representation or trust the notebook. <br />On GitHub, the HTML representation is unable to render, please try loading this page with nbviewer.org.</b></div><div class=\"sk-container\" hidden><div class=\"sk-item\"><div class=\"sk-estimator sk-toggleable\"><input class=\"sk-toggleable__control sk-hidden--visually\" id=\"sk-estimator-id-1\" type=\"checkbox\" checked><label for=\"sk-estimator-id-1\" class=\"sk-toggleable__label sk-toggleable__label-arrow\">RiskSLIMClassifier</label><div class=\"sk-toggleable__content\"><pre>+------------------------------------------------------+-------------------+-----------+\n",
       "| Pr(ALZHEIMERS = +1) = 1.0/(1.0 + exp(-(1 + score))   |                   |           |\n",
       "| ==================================================== | ================= | ========= |\n",
       "| linear_slope_O1                                      |          5 points |   + ..... |\n",
       "| alpha_knee_freq_C3                                   |          4 points |   + ..... |\n",
       "| gamma_knee_freq_F4                                   |         -1 points |   + ..... |\n",
       "| alpha_knee_freq_Cz                                   |         -2 points |   + ..... |\n",
       "| linear_slope_Pz                                      |         -5 points |   + ..... |\n",
       "| ==================================================== | ================= | ========= |\n",
       "| ADD POINTS FROM ROWS 1 to 5                          |             SCORE |   = ..... |\n",
       "+------------------------------------------------------+-------------------+-----------+</pre></div></div></div></div></div>"
      ],
      "text/plain": [
       "+------------------------------------------------------+-------------------+-----------+\n",
       "| Pr(ALZHEIMERS = +1) = 1.0/(1.0 + exp(-(1 + score))   |                   |           |\n",
       "| ==================================================== | ================= | ========= |\n",
       "| linear_slope_O1                                      |          5 points |   + ..... |\n",
       "| alpha_knee_freq_C3                                   |          4 points |   + ..... |\n",
       "| gamma_knee_freq_F4                                   |         -1 points |   + ..... |\n",
       "| alpha_knee_freq_Cz                                   |         -2 points |   + ..... |\n",
       "| linear_slope_Pz                                      |         -5 points |   + ..... |\n",
       "| ==================================================== | ================= | ========= |\n",
       "| ADD POINTS FROM ROWS 1 to 5                          |             SCORE |   = ..... |\n",
       "+------------------------------------------------------+-------------------+-----------+"
      ]
     },
     "execution_count": 3,
     "metadata": {},
     "output_type": "execute_result"
    }
   ],
   "source": [
    "# RiskSLIM settings\n",
    "settings = {\n",
    "    \"max_runtime\": 30.0,\n",
    "    \"max_tolerance\": np.finfo(\"float\").eps,\n",
    "    \"loss_computation\": \"fast\",\n",
    "    \"round_flag\": True,\n",
    "    \"polish_flag\": True,\n",
    "    \"chained_updates_flag\": True,\n",
    "    \"add_cuts_at_heuristic_solutions\": True,\n",
    "    \"initialization_flag\": True,\n",
    "    \"init_max_runtime\": 120.0,\n",
    "    \"init_max_coefficient_gap\": 0.9,\n",
    "    \"cplex_randomseed\": 0,\n",
    "    \"cplex_mipemphasis\": 0,\n",
    "}\n",
    "\n",
    "# Initialize model\n",
    "rs = RiskSLIMClassifier(\n",
    "    max_size=5, \n",
    "    max_coef=6,\n",
    "    max_abs_offset=10,\n",
    "    variable_names=variable_names,\n",
    "    outcome_name=\"alzheimers\",\n",
    "    verbose=False,\n",
    "    settings=settings\n",
    ")\n",
    "\n",
    "# Fit\n",
    "rs.fit(X, y)\n",
    "\n",
    "rs"
   ]
  },
  {
   "cell_type": "code",
   "execution_count": null,
   "id": "67788493",
   "metadata": {},
   "outputs": [],
   "source": []
  },
  {
   "cell_type": "code",
   "execution_count": null,
   "id": "864cd512",
   "metadata": {},
   "outputs": [],
   "source": []
  },
  {
   "cell_type": "code",
   "execution_count": 71,
   "id": "26029e1e",
   "metadata": {},
   "outputs": [
    {
     "data": {
      "text/plain": [
       "PosixPath('report.html')"
      ]
     },
     "execution_count": 71,
     "metadata": {},
     "output_type": "execute_result"
    }
   ],
   "source": [
    "rs.create_report(\"report.html\")"
   ]
  },
  {
   "cell_type": "code",
   "execution_count": 12,
   "id": "cf6eeec9",
   "metadata": {
    "scrolled": false
   },
   "outputs": [
    {
     "data": {
      "text/html": [
       "\n",
       "        <iframe\n",
       "            width=\"1200\"\n",
       "            height=\"1000\"\n",
       "            src=\"report.html\"\n",
       "            frameborder=\"0\"\n",
       "            allowfullscreen\n",
       "            \n",
       "        ></iframe>\n",
       "        "
      ],
      "text/plain": [
       "<IPython.lib.display.IFrame at 0x28a8bd6c0>"
      ]
     },
     "execution_count": 12,
     "metadata": {},
     "output_type": "execute_result"
    }
   ],
   "source": [
    "from IPython.display import IFrame\n",
    "\n",
    "IFrame(src=\"report.html\", width=1200, height=1000)"
   ]
  }
 ],
 "metadata": {
  "kernelspec": {
   "display_name": "Python 3 (ipykernel)",
   "language": "python",
   "name": "python3"
  },
  "language_info": {
   "codemirror_mode": {
    "name": "ipython",
    "version": 3
   },
   "file_extension": ".py",
   "mimetype": "text/x-python",
   "name": "python",
   "nbconvert_exporter": "python",
   "pygments_lexer": "ipython3",
   "version": "3.10.10"
  }
 },
 "nbformat": 4,
 "nbformat_minor": 5
}
