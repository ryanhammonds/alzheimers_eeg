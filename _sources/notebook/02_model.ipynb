{
 "cells": [
  {
   "cell_type": "code",
   "execution_count": 1,
   "id": "b85034d3",
   "metadata": {},
   "outputs": [],
   "source": [
    "import numpy as np\n",
    "import pandas as pd\n",
    "from sklearn.impute import SimpleImputer\n",
    "from riskslim import RiskSLIMClassifier\n",
    "from IPython.display import IFrame"
   ]
  },
  {
   "cell_type": "markdown",
   "id": "eafb9751",
   "metadata": {},
   "source": [
    "### Linear Modeling\n",
    "\n",
    "The features from the previous notebook are now passed into a sparse risk model. The variables found to be important in classification were timescales (label as spectral \"knee_freq\" below) and 1/f slope. The model produced an AUC=0.8."
   ]
  },
  {
   "cell_type": "code",
   "execution_count": 2,
   "id": "e6ba6fb4",
   "metadata": {},
   "outputs": [],
   "source": [
    "# Load features\n",
    "df = pd.read_csv(\"alzheimers_features.csv\")\n",
    "df = df.loc[(df[\"label\"] == \"C\") | (df[\"label\"] == \"A\")]\n",
    "\n",
    "# X and y\n",
    "X = df.iloc[:, 1:].to_numpy()\n",
    "\n",
    "y = np.zeros(len(X), dtype=int)\n",
    "y[df[\"label\"] == 'A'] = 1 # alzheimer's\n",
    "y[df[\"label\"] == 'C'] = 0 # controls\n",
    "\n",
    "variable_names = list(df.columns[1:])\n",
    "\n",
    "# Scaler\n",
    "from sklearn.preprocessing import StandardScaler\n",
    "scaler = StandardScaler()\n",
    "X = scaler.fit_transform(X)\n",
    "\n",
    "# Impute missing values\n",
    "imp = SimpleImputer(missing_values=np.nan, strategy='mean')\n",
    "X = imp.fit_transform(X)\n",
    "\n",
    "\n",
    "# Drop offset, constant, and exponent parameters\n",
    "#   for faster computation\n",
    "keep = []\n",
    "\n",
    "for i, v in enumerate(variable_names):\n",
    "    if (\"offset\" not in v) and (\"const\" not in v) and (\"exp\" not in v):\n",
    "        keep.append(i)\n",
    "        \n",
    "X = X[:, keep]\n",
    "variable_names = np.array(variable_names)[keep].tolist()"
   ]
  },
  {
   "cell_type": "markdown",
   "id": "22021e64",
   "metadata": {},
   "source": [
    "### RiskSLIM\n",
    "\n",
    "RiskSLIM is a sparse linear integer model with risk scores. This model provides improved interpretablity compared to standard logistic regression."
   ]
  },
  {
   "cell_type": "code",
   "execution_count": 3,
   "id": "54f7fe54",
   "metadata": {},
   "outputs": [
    {
     "data": {
      "text/plain": [
       "PosixPath('report.html')"
      ]
     },
     "execution_count": 3,
     "metadata": {},
     "output_type": "execute_result"
    }
   ],
   "source": [
    "# RiskSLIM settings\n",
    "settings = {\n",
    "    \"max_runtime\": 30.0,\n",
    "    \"max_tolerance\": np.finfo(\"float\").eps,\n",
    "    \"loss_computation\": \"fast\",\n",
    "    \"round_flag\": True,\n",
    "    \"polish_flag\": True,\n",
    "    \"chained_updates_flag\": True,\n",
    "    \"add_cuts_at_heuristic_solutions\": True,\n",
    "    \"initialization_flag\": True,\n",
    "    \"init_max_runtime\": 120.0,\n",
    "    \"init_max_coefficient_gap\": 0.9,\n",
    "    \"cplex_randomseed\": 0,\n",
    "    \"cplex_mipemphasis\": 0,\n",
    "}\n",
    "\n",
    "# Initialize model\n",
    "rs = RiskSLIMClassifier(\n",
    "    max_size=5, \n",
    "    max_coef=6,\n",
    "    max_abs_offset=10,\n",
    "    variable_names=variable_names,\n",
    "    outcome_name=\"alzheimers\",\n",
    "    verbose=False,\n",
    "    settings=settings\n",
    ")\n",
    "\n",
    "# Fit\n",
    "rs.fit(X, y)\n",
    "\n",
    "rs.create_report(\"report.html\", only_table=True)"
   ]
  },
  {
   "cell_type": "code",
   "execution_count": 4,
   "id": "2d6424e9",
   "metadata": {
    "scrolled": false
   },
   "outputs": [
    {
     "data": {
      "text/html": [
       "\n",
       "        <iframe\n",
       "            width=\"1200\"\n",
       "            height=\"500\"\n",
       "            src=\"report.html\"\n",
       "            frameborder=\"0\"\n",
       "            allowfullscreen\n",
       "            \n",
       "        ></iframe>\n",
       "        "
      ],
      "text/plain": [
       "<IPython.lib.display.IFrame at 0x296a125f0>"
      ]
     },
     "execution_count": 4,
     "metadata": {},
     "output_type": "execute_result"
    }
   ],
   "source": [
    "IFrame(src=\"report.html\", width=1200, height=500)"
   ]
  }
 ],
 "metadata": {
  "kernelspec": {
   "display_name": "Python 3 (ipykernel)",
   "language": "python",
   "name": "python3"
  },
  "language_info": {
   "codemirror_mode": {
    "name": "ipython",
    "version": 3
   },
   "file_extension": ".py",
   "mimetype": "text/x-python",
   "name": "python",
   "nbconvert_exporter": "python",
   "pygments_lexer": "ipython3",
   "version": "3.10.10"
  }
 },
 "nbformat": 4,
 "nbformat_minor": 5
}
